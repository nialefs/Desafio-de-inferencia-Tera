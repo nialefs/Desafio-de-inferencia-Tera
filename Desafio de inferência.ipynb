{
 "cells": [
  {
   "cell_type": "markdown",
   "id": "5e429895",
   "metadata": {
    "id": "5e429895"
   },
   "source": [
    "<h1><b><center>DESAFIO DE INFERÊNCIA - TERA</center></b></h1>"
   ]
  },
  {
   "cell_type": "markdown",
   "id": "9abc6dbc",
   "metadata": {},
   "source": [
    "#### OBSERVAÇÃO:\n",
    "\n",
    "Correção dos códigos de raça/etnia do dicionário de demo_phq:\n",
    "- 1 - Mexicano-americano\n",
    "- 2 - Negro não-hispânico\n",
    "- 3 - Branco não-hispânico\n",
    "- 4 - Outro\n",
    "- 5 - Outro-Hispânico"
   ]
  },
  {
   "cell_type": "markdown",
   "id": "e89c73d5",
   "metadata": {
    "id": "e89c73d5"
   },
   "source": [
    "## Importando as bibliotecas e carregando as bases de dados"
   ]
  },
  {
   "cell_type": "code",
   "execution_count": null,
   "id": "add0a1cd",
   "metadata": {
    "id": "add0a1cd"
   },
   "outputs": [],
   "source": [
    "import pandas as pd\n",
    "import numpy as np\n",
    "import statistics\n",
    "from scipy import stats\n",
    "import matplotlib.pyplot as plt\n",
    "import seaborn as sns\n",
    "import warnings\n",
    "warnings.filterwarnings('ignore')"
   ]
  },
  {
   "cell_type": "code",
   "execution_count": null,
   "id": "54fe1ad3",
   "metadata": {
    "colab": {
     "base_uri": "https://localhost:8080/",
     "height": 354
    },
    "executionInfo": {
     "elapsed": 92,
     "status": "error",
     "timestamp": 1657897885707,
     "user": {
      "displayName": "Aline Florindo",
      "userId": "17132370323163133714"
     },
     "user_tz": 180
    },
    "id": "54fe1ad3",
    "outputId": "e4e59d12-b4f0-4baa-d2f7-00973ec89b4d"
   },
   "outputs": [],
   "source": [
    "demo_phq = pd.read_csv('DEMO_PHQ.csv')\n",
    "pag_hei = pd.read_csv('PAG_HEI.csv')"
   ]
  },
  {
   "cell_type": "code",
   "execution_count": null,
   "id": "feed9148",
   "metadata": {
    "id": "feed9148"
   },
   "outputs": [],
   "source": [
    "demo_phq.head()"
   ]
  },
  {
   "cell_type": "code",
   "execution_count": null,
   "id": "e8c0a90f",
   "metadata": {},
   "outputs": [],
   "source": [
    "demo_phq.info()"
   ]
  },
  {
   "cell_type": "code",
   "execution_count": null,
   "id": "d1d9fe76",
   "metadata": {
    "id": "d1d9fe76",
    "scrolled": true
   },
   "outputs": [],
   "source": [
    "pag_hei.head()"
   ]
  },
  {
   "cell_type": "code",
   "execution_count": null,
   "id": "f8047670",
   "metadata": {},
   "outputs": [],
   "source": [
    "pag_hei.info()"
   ]
  },
  {
   "cell_type": "markdown",
   "id": "70d5801d",
   "metadata": {
    "id": "70d5801d"
   },
   "source": [
    "## Colocando a variável SEQN como index e unindo as DB "
   ]
  },
  {
   "cell_type": "code",
   "execution_count": null,
   "id": "dd64ce33",
   "metadata": {
    "id": "dd64ce33"
   },
   "outputs": [],
   "source": [
    "df_merged = pd.merge(demo_phq, pag_hei, on = 'SEQN')\n",
    "df_merged"
   ]
  },
  {
   "cell_type": "code",
   "execution_count": null,
   "id": "4af1f26c",
   "metadata": {},
   "outputs": [],
   "source": [
    "# Avaliando o percentual de casos faltantes\n",
    "\n",
    "df_merged.isnull().mean()*100"
   ]
  },
  {
   "cell_type": "code",
   "execution_count": null,
   "id": "c874b075",
   "metadata": {},
   "outputs": [],
   "source": [
    "df_merged.drop(columns = ['SEQN']).describe(percentiles = [.01, .05, .25, .5, .75, .95, .99]).round(2)"
   ]
  },
  {
   "cell_type": "markdown",
   "id": "501ed11a",
   "metadata": {},
   "source": [
    "## Avaliando as variáveis"
   ]
  },
  {
   "cell_type": "code",
   "execution_count": null,
   "id": "ee0dceac",
   "metadata": {},
   "outputs": [],
   "source": [
    "# Distribuição de raça/etnia:\n",
    "\n",
    "df_merged[['RIDRETH1']].value_counts(sort = False)"
   ]
  },
  {
   "cell_type": "code",
   "execution_count": null,
   "id": "f79c6997",
   "metadata": {},
   "outputs": [],
   "source": [
    "# Distribuição de escolaridade\n",
    "\n",
    "df_merged[['DMDEDUC']].value_counts(sort = False)"
   ]
  },
  {
   "cell_type": "code",
   "execution_count": null,
   "id": "33058d89",
   "metadata": {},
   "outputs": [],
   "source": [
    "# Distribuição de renda\n",
    "\n",
    "df_merged[['INDFMINC']].value_counts(sort = False)"
   ]
  },
  {
   "cell_type": "code",
   "execution_count": null,
   "id": "3888b364",
   "metadata": {},
   "outputs": [],
   "source": [
    "# Criando uma coluna sem 77 (se recusou a responder) e 99 (não sabe)\n",
    "\n",
    "df_merged['RENDA_MAIOR_MENOR_20000'] = df_merged['INDFMINC'].loc[(df_merged['INDFMINC'] != 77) & \n",
    "                                                           (df_merged['INDFMINC'] != 99)]\n",
    "\n",
    "df_merged[['RENDA_MAIOR_MENOR_20000']].value_counts(sort = False)"
   ]
  },
  {
   "cell_type": "code",
   "execution_count": null,
   "id": "d6079d23",
   "metadata": {},
   "outputs": [],
   "source": [
    "# Agrupando as rendas maiores e menores que 20000 em novas variáveis\n",
    "\n",
    "menor_20000 = []\n",
    "maior_20000 = []\n",
    "\n",
    "for _, renda in enumerate(df_merged['RENDA_MAIOR_MENOR_20000']):\n",
    "    if renda <= 4 or renda == 13 and renda != 12:\n",
    "        menor_20000.append(renda)\n",
    "    elif renda != 13:\n",
    "        maior_20000.append(renda)\n",
    "\n",
    "menor_20000 = pd.Series(menor_20000)\n",
    "maior_20000 = pd.Series(maior_20000)"
   ]
  },
  {
   "cell_type": "code",
   "execution_count": null,
   "id": "e6f14584",
   "metadata": {},
   "outputs": [],
   "source": [
    "# Distribuição de grupo de aderência\n",
    "\n",
    "df_merged[['ADHERENCE']].value_counts(sort = False)"
   ]
  },
  {
   "cell_type": "markdown",
   "id": "1fc92139",
   "metadata": {},
   "source": [
    "Agrupando/recategorizando variáveis qualitativas:\n",
    "\n",
    "1) Substituindo as categorias 7 e 9 por missing para as variáveis DPQ0X0 e DMDEDUC\n",
    "\n",
    "2) Agrupando as categorias 2 e 5 na variável RIDRETH1\n"
   ]
  },
  {
   "cell_type": "code",
   "execution_count": null,
   "id": "a879c6c2",
   "metadata": {},
   "outputs": [],
   "source": [
    "replace_map = {\n",
    "  \"DPQ010\": {7: np.nan, 9: np.nan},\n",
    "  \"DPQ020\": {7: np.nan, 9: np.nan},\n",
    "  \"DPQ030\": {7: np.nan, 9: np.nan},\n",
    "  \"DPQ040\": {7: np.nan, 9: np.nan},\n",
    "  \"DPQ050\": {7: np.nan, 9: np.nan},\n",
    "  \"DPQ060\": {7: np.nan, 9: np.nan},\n",
    "  \"DPQ070\": {7: np.nan, 9: np.nan},\n",
    "  \"DPQ080\": {7: np.nan, 9: np.nan},\n",
    "  \"DPQ090\": {7: np.nan, 9: np.nan},\n",
    "  \"RIDRETH1\": {5: 2},\n",
    "  \"DMDEDUC\": {7: np.nan, 9: np.nan}\n",
    "}\n",
    "\n",
    "df_merged_2 = df_merged.replace(replace_map)"
   ]
  },
  {
   "cell_type": "markdown",
   "id": "8c1ffb3d",
   "metadata": {},
   "source": [
    "Como o percentual de dados nulos é abaixo de 10% para todas as variáveis, a análise será feita com os dados completos"
   ]
  },
  {
   "cell_type": "code",
   "execution_count": null,
   "id": "0a8781c1",
   "metadata": {},
   "outputs": [],
   "source": [
    "# Criando a variável PHQ9 que ontém a soma das variáveis das colunas DPQ010 a DPQ090\n",
    "\n",
    "df_merged_2['PHQ9'] = df_merged_2.iloc[:, 1:10].sum(axis = 1, skipna = False)\n",
    "phq9 = df_merged['PHQ9']"
   ]
  },
  {
   "cell_type": "code",
   "execution_count": null,
   "id": "7fb31779",
   "metadata": {},
   "outputs": [],
   "source": [
    "conditions = [\n",
    "  (df_merged_2['PHQ9'].isna()),\n",
    "  (df_merged_2['PHQ9'] <= 5),\n",
    "  (df_merged_2['PHQ9'] > 5) & (df_merged_2['PHQ9'] <= 9),\n",
    "  (df_merged_2['PHQ9'] > 9) & (df_merged_2['PHQ9'] <= 14),\n",
    "  (df_merged_2['PHQ9'] > 14) & (df_merged_2['PHQ9'] <= 19),\n",
    "  (df_merged_2['PHQ9'] > 19)]\n",
    "values = [np.nan, 0, 1, 2, 3, 4]\n",
    "\n",
    "# Criando a variável phq_grp que representar os grupos com depressão\n",
    "df_merged_2['phq_grp'] = np.select(conditions, values)"
   ]
  },
  {
   "cell_type": "code",
   "execution_count": null,
   "id": "3def8071",
   "metadata": {},
   "outputs": [],
   "source": [
    "# Como 3 e 4 tem baixas incidencias, será feita uma substituição onde\n",
    "# 0 - Sem sintomas\n",
    "# 1 - Sintomas leves\n",
    "# 2 - Sintomas moderados a severos\n",
    "\n",
    "df_merged_2['DEPRESINTGROUP'] = df_merged_2['phq_grp'].replace([3, 4], 2)\n",
    "df_merged_2[['DEPRESINTGROUP']].value_counts(sort = False)"
   ]
  },
  {
   "cell_type": "code",
   "execution_count": null,
   "id": "732c4dcd",
   "metadata": {},
   "outputs": [],
   "source": [
    "# Distribuição dos escores para PHQ9\n",
    "\n",
    "df_merged_2.iloc[:, 1:10].agg(['value_counts'])"
   ]
  },
  {
   "cell_type": "markdown",
   "id": "8a543d57",
   "metadata": {
    "id": "8a543d57"
   },
   "source": [
    "## Análise Univariada"
   ]
  },
  {
   "cell_type": "code",
   "execution_count": null,
   "id": "f429ed8f",
   "metadata": {
    "id": "f429ed8f"
   },
   "outputs": [],
   "source": [
    "# Respostas das perguntas\n",
    "\n",
    "fig, axes = plt.subplots(3, 3, figsize = (15,15))\n",
    "colunas = df_merged.columns[1:10].tolist()\n",
    "matrix = np.array([[1, 2, 3],[4, 5, 6], [7, 8, 9]])\n",
    "for col in colunas:\n",
    "    idx = colunas.index(col) + 1\n",
    "    linha = np.where(matrix == idx)[0][0]\n",
    "    coluna = np.where(matrix == idx)[1][0]\n",
    "    sns.histplot(df_merged_2[col], ax = axes[linha, coluna],stat = 'percent', discrete = True)"
   ]
  },
  {
   "cell_type": "markdown",
   "id": "9ef79001",
   "metadata": {
    "id": "9ef79001"
   },
   "source": [
    "Através dos gráficos acima, é possível observar que todos possuem características semelhantes, com a resposta \"0 = Nenhuma vez\" em maior evidência. Porém, nos gráficos das perguntas 3 e 4, é possível observar a coluna com resposta \"1 = Menos de uma semana\" com um maior aumento em comparação aos outros gráficos.\n",
    "\n",
    "A pergunta 3 trata-se de \"dificuldade para pegar no sono ou permanecer dormindo ou dormiu mais do que o costume\" e pergunta 4 sobre \"se sentiu cansado(a) ou com pouca energia\". Tal aumento pode ser devido a uma rotina atarefada e estressante, não sendo necessariamente relacionado a depressão."
   ]
  },
  {
   "cell_type": "code",
   "execution_count": null,
   "id": "eba6207b",
   "metadata": {
    "id": "eba6207b"
   },
   "outputs": [],
   "source": [
    "# Gênero\n",
    "\n",
    "plt.figure(figsize = (10, 5))\n",
    "plt.xticks([1, 2], ['Masculino', 'Feminino'])\n",
    "sns.histplot(df_merged_2['RIAGENDR'], stat = 'percent', discrete = True);"
   ]
  },
  {
   "cell_type": "markdown",
   "id": "782d9003",
   "metadata": {
    "id": "782d9003"
   },
   "source": [
    "As pessoas que mais participaram da pesquisa foram do gênero feminino, porém, a diferença entre a quantidade de pessoas de gêneros diferentes não é tão significativa.\n",
    "\n",
    "Através da aplicação de contagem de elementos únicos da biblioteca numpy, é possível observar a quantidade exata de pessoas do gênero feminino e masculino, havendo 2773 pessoas do gênero feminino e 2561 pessoas do gênero masculino, uma diferença de 212 pessoas a mais do gênero feminino."
   ]
  },
  {
   "cell_type": "code",
   "execution_count": null,
   "id": "d51fa897",
   "metadata": {
    "id": "d51fa897"
   },
   "outputs": [],
   "source": [
    "# Idade\n",
    "\n",
    "plt.figure(figsize = (10, 5))\n",
    "sns.displot(df_merged_2, x = 'RIDAGEYR', kde = True);"
   ]
  },
  {
   "cell_type": "markdown",
   "id": "a811490d",
   "metadata": {
    "id": "a811490d"
   },
   "source": [
    "O boxplot das idades das pessoas que participaram da pesquisa retorna que, em média, os entrevistados possuiam aproximadamente 45 anos, com um desvio padrão de aproximadamente 20,14 anos. Já a mediana é de 43 e a maioria dos entrevistados possuem 18 anos, o que infere em uma distribuição significativa de idade entre os entrevistados."
   ]
  },
  {
   "cell_type": "code",
   "execution_count": null,
   "id": "955fa147",
   "metadata": {
    "id": "955fa147"
   },
   "outputs": [],
   "source": [
    "# Raça/etnia\n",
    "\n",
    "plt.figure(figsize = (10, 5))\n",
    "sns.histplot(df_merged_2['RIDRETH1'], stat = 'percent', discrete = True);"
   ]
  },
  {
   "cell_type": "markdown",
   "id": "30961ea9",
   "metadata": {
    "id": "30961ea9"
   },
   "source": [
    "Através do gráfico acima, é possível observar que a maior parte dos entrevistados é de brancos não-hispânicos, seguido por outras raças/etnias e mexicanos-americanos não-hispânicos. As pessoas negras não-hispânicas e de outras etnias hispânicas estão em menor proporção."
   ]
  },
  {
   "cell_type": "code",
   "execution_count": null,
   "id": "aa74baa7",
   "metadata": {
    "id": "aa74baa7"
   },
   "outputs": [],
   "source": [
    "# Escolaridade\n",
    "\n",
    "plt.figure(figsize = (10, 5))\n",
    "escolaridade_sem_7_9 = df_merged_2['DMDEDUC'].loc[(df_merged_2['DMDEDUC'] != 7) & (df_merged_2['DMDEDUC'] != 9)]\n",
    "sns.histplot(escolaridade_sem_7_9, stat = 'percent', discrete = True);"
   ]
  },
  {
   "cell_type": "markdown",
   "id": "a4e46506",
   "metadata": {
    "id": "a4e46506"
   },
   "source": [
    "A maior parte dos entrevistados possui ensino superior incompleto, seguido pelos que tem, respectivamente, ensino médio, superior completo ou maior, 9 ao 12º ano e por último, menor que 9º ano."
   ]
  },
  {
   "cell_type": "code",
   "execution_count": null,
   "id": "4633d229",
   "metadata": {},
   "outputs": [],
   "source": [
    "# Renda anual familiar - maior que 20000\n",
    "\n",
    "plt.figure(figsize = (10, 5))\n",
    "sns.histplot(maior_20000, stat = 'percent', discrete = True);"
   ]
  },
  {
   "cell_type": "code",
   "execution_count": null,
   "id": "15504184",
   "metadata": {},
   "outputs": [],
   "source": [
    "# Renda anual familiar - menor que 20000\n",
    "\n",
    "plt.figure(figsize = (10, 5))\n",
    "sns.histplot(menor_20000, stat = 'percent', discrete = True);"
   ]
  },
  {
   "cell_type": "markdown",
   "id": "41f07489",
   "metadata": {},
   "source": [
    "Das pessoas com renda superior a 20000, a maior parte dos entrevistados possui renda superior a 75000 e das com renda inferior a 20000, a maioria possui renda entre 10000 e 14999."
   ]
  },
  {
   "cell_type": "code",
   "execution_count": null,
   "id": "475721a8",
   "metadata": {
    "id": "475721a8"
   },
   "outputs": [],
   "source": [
    "# Tempo total semanal de atividade aeróbica moderada-vigorosa em minutos segundo o PAG\n",
    "\n",
    "'''Como uma semana tem no máximo 168 horas (10080 minutos), \n",
    "o valor máximo de PAG_MINW não parece ser um valor possível.\n",
    "Nesse caso, será feito o truncamento do valor de PAG_MINW em 3600 minutos (60h semanais)\n",
    "e logo em seguida transformado em horas.'''\n",
    "\n",
    "df_merged_2['PAG_MINW_trunc'] = np.where(df_merged_2['PAG_MINW'] > 3600, 3600, df_merged_2['PAG_MINW'])\n",
    "df_merged_2[\"PAG_HRW\"] = df_merged_2[\"PAG_MINW_trunc\"]/60\n",
    "\n",
    "plt.figure(figsize = (10, 5))\n",
    "sns.displot(df_merged_2, x = 'PAG_HRW', kde = True);"
   ]
  },
  {
   "cell_type": "code",
   "execution_count": null,
   "id": "b238c5e1",
   "metadata": {
    "id": "b238c5e1"
   },
   "outputs": [],
   "source": [
    "# Aderência\n",
    "\n",
    "plt.figure(figsize = (10, 5))\n",
    "sns.histplot(df_merged_2['ADHERENCE'], stat = 'percent', discrete = True);"
   ]
  },
  {
   "cell_type": "markdown",
   "id": "a0da2f6c",
   "metadata": {
    "id": "a0da2f6c"
   },
   "source": [
    "O gráfico da aderência dá uma ideia do porquê haver tantos outliers no gráfico de tempo total semanal de atividade aeróbica já que o tempo adequado de exercício por semana é bem menor se comparado ao tempo abaixo de 150 min/semana ou acima de 300 min/semana."
   ]
  },
  {
   "cell_type": "code",
   "execution_count": null,
   "id": "9b33365f",
   "metadata": {
    "id": "9b33365f"
   },
   "outputs": [],
   "source": [
    "# Plotando os histogramas para as variáveis relativas ao HEI com medidas de 0 a 5\n",
    "\n",
    "colunas = df_merged_2.columns[17:21].tolist()\n",
    "colunas.extend(df_merged_2.columns[23:25].tolist())\n",
    "\n",
    "fig, axes = plt.subplots(2,3, figsize=(15,15))\n",
    "matriz = np.array([[1, 2, 3],[4, 5, 6]])\n",
    "for col in colunas:\n",
    "    idx = colunas.index(col)+1\n",
    "    linha = np.where(matriz==idx)[0][0]\n",
    "    coluna = np.where(matriz==idx)[1][0]\n",
    "    sns.histplot(df_merged_2[col], ax=axes[linha,coluna], stat = 'percent', discrete = True)"
   ]
  },
  {
   "cell_type": "markdown",
   "id": "e3dd91a3",
   "metadata": {
    "id": "e3dd91a3"
   },
   "source": [
    "- Em geral, os gráficos encontram-se com uma boa quantidade de pessoas que atingiram a quantidade máxima ingerida destes tipos de alimento no momento de realização da pesquisa.\n",
    "- Observa-se nos gráficos de 'verduras verde-escuras e leguminosas', 'frutas totais', 'frutas in natura' e 'plantas marinhas e proteínas vegetais' uma grande quantidade de pessoas que não ingeriram estes tipos de alimentos, sendo mais predominante nos gráficos de 'verduras verde-escuras e leguminosas' e 'frutas in natura'\n",
    "- Houve uma grande quantidade de pessoas que atingiram o máximo de proteína, havendo poucas pessoas que não ingeriram nenhuma porção ou ingeriram menos deste tipo de alimento enquanto era realizada a pesquisa. Isto pode ser em razão que a maioria dos alimentos proteicos ingeridos é de origem animal e é mais \"fácil\" ingerir este tipo de alimento que vegetais e frutas."
   ]
  },
  {
   "cell_type": "code",
   "execution_count": null,
   "id": "a5ef7a05",
   "metadata": {
    "id": "a5ef7a05"
   },
   "outputs": [],
   "source": [
    "# Plotando os histogramas para as variáveis relativas ao HEI com medidas de 0 a 10\n",
    "\n",
    "colunas = df_merged_2.columns[21:23].tolist()\n",
    "colunas.extend(df_merged_2.columns[25:30].tolist())\n",
    "\n",
    "fig, axes = plt.subplots(3,3, figsize = (15,15))\n",
    "matriz = np.array([[1, 2, 3],[4, 5, 6], [7, 8, 9]])\n",
    "for col in colunas:\n",
    "    idx = colunas.index(col)+1\n",
    "    linha = np.where(matriz==idx)[0][0]\n",
    "    coluna = np.where(matriz==idx)[1][0]\n",
    "    sns.histplot(df_merged_2[col], ax=axes[linha,coluna], stat = 'percent', discrete = True)"
   ]
  },
  {
   "cell_type": "markdown",
   "id": "f8349f7f",
   "metadata": {
    "id": "f8349f7f"
   },
   "source": [
    "Nestes gráficos, observa-se que há uma grande quantidade de pessoas que não ingeriram grãos integrais, enquanto que alimentos prejudiciais a saúde foram ingeridas em maior quantidade."
   ]
  },
  {
   "cell_type": "code",
   "execution_count": null,
   "id": "41b579c1",
   "metadata": {
    "id": "41b579c1"
   },
   "outputs": [],
   "source": [
    "# Escore total\n",
    "\n",
    "plt.figure(figsize = (10, 5))\n",
    "sns.boxplot(df_merged_2['HEI2015_TOTAL_SCORE']);"
   ]
  },
  {
   "cell_type": "code",
   "execution_count": null,
   "id": "2338afd6",
   "metadata": {
    "id": "2338afd6"
   },
   "outputs": [],
   "source": [
    "# PHQ9\n",
    "\n",
    "plt.figure(figsize = (10, 5))\n",
    "sns.histplot(df_merged_2['PHQ9'], stat = 'percent', discrete = True);"
   ]
  },
  {
   "cell_type": "code",
   "execution_count": null,
   "id": "6bfa5337",
   "metadata": {
    "id": "6bfa5337"
   },
   "outputs": [],
   "source": [
    "# Grupo com sintomas depressivos\n",
    "\n",
    "plt.figure(figsize = (10, 5))\n",
    "sns.histplot(df_merged_2['DEPRESINTGROUP'], stat = 'percent', discrete = True);"
   ]
  },
  {
   "cell_type": "markdown",
   "id": "a33225b5",
   "metadata": {
    "id": "a33225b5"
   },
   "source": [
    "Com os dados obtidos, a maioria dos entrevistados não possuem sintomas depressivos."
   ]
  },
  {
   "cell_type": "markdown",
   "id": "3dbee382",
   "metadata": {
    "id": "3dbee382"
   },
   "source": [
    "## Análise Bivariada e Teste de Hipóteses"
   ]
  },
  {
   "cell_type": "code",
   "execution_count": null,
   "id": "f398366a",
   "metadata": {},
   "outputs": [],
   "source": [
    "# Importando as bibliotecas necessárias\n",
    "\n",
    "from scipy.stats import f_oneway\n",
    "from statsmodels.stats.multicomp import pairwise_tukeyhsd"
   ]
  },
  {
   "cell_type": "code",
   "execution_count": null,
   "id": "cbd28fe6",
   "metadata": {},
   "outputs": [],
   "source": [
    "# Separando variáveis qualitativas e quantitativas\n",
    "\n",
    "var_quant = [\n",
    "    \"RIDAGEYR\", \n",
    "    \"INDFMINC\", \n",
    "    \"PAG_MINW\", \n",
    "    \"HEI2015C1_TOTALVEG\",\n",
    "    \"HEI2015C2_GREEN_AND_BEAN\",\n",
    "    \"HEI2015C3_TOTALFRUIT\",\n",
    "    \"HEI2015C4_WHOLEFRUIT\",\n",
    "    \"HEI2015C5_WHOLEGRAIN\",\n",
    "    \"HEI2015C6_TOTALDAIRY\",\n",
    "    \"HEI2015C7_TOTPROT\",\n",
    "    \"HEI2015C8_SEAPLANT_PROT\",\n",
    "    \"HEI2015C9_FATTYACID\",\n",
    "    \"HEI2015C10_SODIUM\",\n",
    "    \"HEI2015C11_REFINEDGRAIN\",\n",
    "    \"HEI2015C12_SFAT\",\n",
    "    \"HEI2015C13_ADDSUG\",\n",
    "    \"HEI2015_TOTAL_SCORE\",\n",
    "    \"PHQ9\"]\n",
    "\n",
    "var_quali = [\n",
    "    \"RIAGENDR\",\n",
    "    \"RIDRETH1\",\n",
    "    \"DMDEDUC\",\n",
    "    \"ADHERENCE\",\n",
    "    \"DEPRESINTGROUP\"\n",
    "]\n",
    "\n",
    "label_quali = {\n",
    "  \"RIAGENDR\": {1: 'Masculino', 2: 'Feminino'},\n",
    "  \"RIDRETH1\": {1: 'Americano Mexicano', 2: 'Outro', 3: 'Branco \\n não hispânico', 4: 'Negro \\n não hispânico'},\n",
    "  \"DMDEDUC\": {1: \"< 9 ano\", 2: \"9-12 ano\", 3: \"Ensino \\n médio\", 4: \"Superior \\n incompleto\", 5: \"Superior \\n completo\"},\n",
    "  \"ADHERENCE\": {1: 'Baixo', 2: 'Adequado', 3: 'Acima'},\n",
    "  \"DEPRESINTGROUP\": {0: \"Sem sintomas\", 1: \"Sintomas \\n leves\", 2: \"Sintomas \\n moderados-severos\"}\n",
    "}"
   ]
  },
  {
   "cell_type": "markdown",
   "id": "7aa9b9b2",
   "metadata": {},
   "source": [
    "### Perfil com maiores incidências de sintomas depressivos"
   ]
  },
  {
   "cell_type": "code",
   "execution_count": null,
   "id": "adff5e9d",
   "metadata": {},
   "outputs": [],
   "source": [
    "# Função para construir boxplot\n",
    "\n",
    "def grafico_boxplot_grp(data, variable, label):\n",
    "    if label == '': label = variable\n",
    "    sns.boxplot(x = 'DEPRESINTGROUP', y = variable, data = data)\n",
    "    plt.ylabel(label)\n",
    "    plt.show()"
   ]
  },
  {
   "cell_type": "code",
   "execution_count": null,
   "id": "3edf4dc8",
   "metadata": {},
   "outputs": [],
   "source": [
    "# Idade e sintomas depressivos\n",
    "\n",
    "grafico_boxplot_grp(df_merged_2.replace(label_quali), \"RIDAGEYR\", \"Idade\")"
   ]
  },
  {
   "cell_type": "markdown",
   "id": "25f84ecd",
   "metadata": {},
   "source": [
    "- H0: Não existe diferença entre os grupos de depressão com relação à média de idade\n",
    "- H1: Existe pelo menos uma diferença na média de idade entre os grupos de sintomas de depressão"
   ]
  },
  {
   "cell_type": "code",
   "execution_count": null,
   "id": "9544f72c",
   "metadata": {},
   "outputs": [],
   "source": [
    "df_teste = df_merged_2[[\"DEPRESINTGROUP\", \"RIDAGEYR\"]].dropna()\n",
    "\n",
    "stat, p = f_oneway(df_teste[(df_teste.DEPRESINTGROUP == 0)][\"RIDAGEYR\"],\n",
    "                   df_teste[(df_teste.DEPRESINTGROUP == 1)][\"RIDAGEYR\"],\n",
    "                   df_teste[(df_teste.DEPRESINTGROUP == 2)][\"RIDAGEYR\"])\n",
    "\n",
    "if p < 0.05:\n",
    "    print('H0 rejeitada: Existe pelo menos uma diferença na média de idade entre os grupos de sintomas de depressão')\n",
    "else:\n",
    "    print('H0 aceita: Não existe diferença entre os grupos de depressão com relação à média de idade')"
   ]
  },
  {
   "cell_type": "markdown",
   "id": "d2815355",
   "metadata": {},
   "source": [
    "- H0: Não existe diferença entre os grupos de depressão com relação à média da renda\n",
    "- H1: Existe pelo menos uma diferença na média da renda entre os grupos de sintomas de depressão"
   ]
  },
  {
   "cell_type": "code",
   "execution_count": null,
   "id": "7b5606e4",
   "metadata": {},
   "outputs": [],
   "source": [
    "# Renda e sintomas depressivos\n",
    "\n",
    "grafico_boxplot_grp(df_merged_2.replace(label_quali), \"INDFMINC\", \"Renda Anual Familiar (US$)\")"
   ]
  },
  {
   "cell_type": "code",
   "execution_count": null,
   "id": "a9681c1e",
   "metadata": {},
   "outputs": [],
   "source": [
    "df_teste = df_merged_2[[\"DEPRESINTGROUP\", \"INDFMINC\"]].dropna()\n",
    "\n",
    "stat, p = f_oneway(df_teste[(df_teste.DEPRESINTGROUP == 0)][\"INDFMINC\"],\n",
    "                   df_teste[(df_teste.DEPRESINTGROUP == 1)][\"INDFMINC\"],\n",
    "                   df_teste[(df_teste.DEPRESINTGROUP == 2)][\"INDFMINC\"])\n",
    "\n",
    "if p < 0.05:\n",
    "    print('H0 rejeitada: Existe pelo menos uma diferença na média da renda entre os grupos de sintomas de depressão')\n",
    "else:\n",
    "    print('H0 aceita: Não existe diferença entre os grupos de depressão com relação à média da renda')"
   ]
  },
  {
   "cell_type": "code",
   "execution_count": null,
   "id": "b6a6d54f",
   "metadata": {},
   "outputs": [],
   "source": [
    "# Como existe pelo menos uma diferença, será realizado o teste de Tukey\n",
    "\n",
    "tukey = pairwise_tukeyhsd(df_teste['INDFMINC'], df_teste['DEPRESINTGROUP'])\n",
    "print(tukey)"
   ]
  },
  {
   "cell_type": "markdown",
   "id": "f80ce37d",
   "metadata": {},
   "source": [
    "### Hábitos saudáveis e sintomas depressivos"
   ]
  },
  {
   "cell_type": "code",
   "execution_count": null,
   "id": "7ee25c1e",
   "metadata": {},
   "outputs": [],
   "source": [
    "# Como a variável PAG_HRW é bastante assimétrica, foi criada uma variável com o log a fim de normalizá-la\n",
    "\n",
    "df_merged_2[\"PAG_HRW_log\"] = np.log(df_merged_2[\"PAG_HRW\"] + 1)\n",
    "grafico_boxplot_grp(df_merged_2.replace(label_quali), \"PAG_HRW_log\", \"Log Atividade Física (h/semana)\")"
   ]
  },
  {
   "cell_type": "markdown",
   "id": "a9caa741",
   "metadata": {},
   "source": [
    "- H0: Não existe diferença entre os grupos de depressão com relação à média das horas em atividade\n",
    "- H1: Existe pelo menos uma diferença na média das horas em atividade entre os grupos de sintomas de depressão"
   ]
  },
  {
   "cell_type": "code",
   "execution_count": null,
   "id": "5c1b1b66",
   "metadata": {},
   "outputs": [],
   "source": [
    "df_teste = df_merged_2[[\"DEPRESINTGROUP\", \"PAG_HRW_log\"]].dropna()\n",
    "\n",
    "stat, p = f_oneway(df_teste[(df_teste.DEPRESINTGROUP == 0)][\"PAG_HRW_log\"],\n",
    "                   df_teste[(df_teste.DEPRESINTGROUP == 1)][\"PAG_HRW_log\"],\n",
    "                   df_teste[(df_teste.DEPRESINTGROUP == 2)][\"PAG_HRW_log\"])\n",
    "\n",
    "if p < 0.05:\n",
    "    print('H0 rejeitada: Existe pelo menos uma diferença na média das horas em atividade entre os grupos de sintomas de depressão')\n",
    "else:\n",
    "    print('H0 aceita: Não existe diferença entre os grupos de depressão com relação à média das horas em atividade')"
   ]
  },
  {
   "cell_type": "code",
   "execution_count": null,
   "id": "31057c43",
   "metadata": {},
   "outputs": [],
   "source": [
    "tukey = pairwise_tukeyhsd(df_teste['PAG_HRW_log'], df_teste['DEPRESINTGROUP'])\n",
    "print(tukey)"
   ]
  },
  {
   "cell_type": "markdown",
   "id": "5c59d09a",
   "metadata": {},
   "source": [
    "- H0: Não existe diferença entre os grupos de depressão com relação ao escore total\n",
    "- H1: Existe pelo menos uma diferença na média ao escore total entre os grupos de sintomas de depressão"
   ]
  },
  {
   "cell_type": "code",
   "execution_count": null,
   "id": "df5e28d6",
   "metadata": {},
   "outputs": [],
   "source": [
    "grafico_boxplot_grp(df_merged_2.replace(label_quali), \"HEI2015_TOTAL_SCORE\", \"HEI - Escore total\")"
   ]
  },
  {
   "cell_type": "code",
   "execution_count": null,
   "id": "e4fc0931",
   "metadata": {},
   "outputs": [],
   "source": [
    "df_teste = df_merged_2[[\"DEPRESINTGROUP\", \"HEI2015_TOTAL_SCORE\"]].dropna()\n",
    "\n",
    "stat, p = f_oneway(df_teste[(df_teste.DEPRESINTGROUP == 0)][\"HEI2015_TOTAL_SCORE\"],\n",
    "                   df_teste[(df_teste.DEPRESINTGROUP == 1)][\"HEI2015_TOTAL_SCORE\"],\n",
    "                   df_teste[(df_teste.DEPRESINTGROUP == 2)][\"HEI2015_TOTAL_SCORE\"])\n",
    "\n",
    "if p < 0.05:\n",
    "    print('H0 rejeitada: Existe pelo menos uma diferença na média ao escore total entre os grupos de sintomas de depressão')\n",
    "else:\n",
    "    print('H0 aceita: Não existe diferença entre os grupos de depressão com relação ao escore total')"
   ]
  },
  {
   "cell_type": "code",
   "execution_count": null,
   "id": "7eead02c",
   "metadata": {},
   "outputs": [],
   "source": [
    "tukey = pairwise_tukeyhsd(df_teste['HEI2015_TOTAL_SCORE'], df_teste['DEPRESINTGROUP'])\n",
    "print(tukey)"
   ]
  },
  {
   "cell_type": "markdown",
   "id": "dc84f9e5",
   "metadata": {},
   "source": [
    "### Perfil de hábitos saudáveis"
   ]
  },
  {
   "cell_type": "code",
   "execution_count": null,
   "id": "436cc034",
   "metadata": {
    "scrolled": true
   },
   "outputs": [],
   "source": [
    "# Alimentação saudável e Exercícios Físicos\n",
    "\n",
    "sns.boxplot(y = \"ADHERENCE\", x = \"HEI2015_TOTAL_SCORE\", orient = \"h\", data = df_merged_2.replace(label_quali));"
   ]
  },
  {
   "cell_type": "code",
   "execution_count": null,
   "id": "45f15c62",
   "metadata": {},
   "outputs": [],
   "source": [
    "fig, ax = plt.subplots(ncols = 2, figsize = (15,5))\n",
    "\n",
    "sns.regplot(x = 'HEI2015_TOTAL_SCORE', y = 'PAG_HRW', lowess = True, line_kws = {'color': 'red'}, data = df_merged_2, ax = ax[0])\n",
    "sns.regplot(x = 'HEI2015_TOTAL_SCORE', y = 'PAG_HRW_log', lowess=True, line_kws={'color': 'red'}, data = df_merged_2, ax = ax[1]);"
   ]
  },
  {
   "cell_type": "markdown",
   "id": "6a9c7cfd",
   "metadata": {},
   "source": [
    "- H0: Não existe diferença entre a aderência com relação ao escore total\n",
    "- H1: Existe pelo menos uma diferença na média ao escore total entre a aderência"
   ]
  },
  {
   "cell_type": "code",
   "execution_count": null,
   "id": "47965e17",
   "metadata": {},
   "outputs": [],
   "source": [
    "df_teste = df_merged_2[[\"ADHERENCE\", \"HEI2015_TOTAL_SCORE\"]].dropna()\n",
    "\n",
    "stat, p = f_oneway(df_teste[(df_teste.ADHERENCE == 1)][\"HEI2015_TOTAL_SCORE\"],\n",
    "                   df_teste[(df_teste.ADHERENCE == 2)][\"HEI2015_TOTAL_SCORE\"],\n",
    "                   df_teste[(df_teste.ADHERENCE == 3)][\"HEI2015_TOTAL_SCORE\"])\n",
    "\n",
    "if p < 0.05:\n",
    "    print('H0 rejeitada: Existe pelo menos uma diferença na média do escore total entre a aderência')\n",
    "else:\n",
    "    print('H0 aceita: Não existe diferença entre a aderência com relação ao escore total')"
   ]
  },
  {
   "cell_type": "code",
   "execution_count": null,
   "id": "267cb164",
   "metadata": {},
   "outputs": [],
   "source": [
    "tukey = pairwise_tukeyhsd(df_teste['HEI2015_TOTAL_SCORE'], df_teste['ADHERENCE'])\n",
    "print(tukey)"
   ]
  },
  {
   "cell_type": "code",
   "execution_count": null,
   "id": "2a228232",
   "metadata": {},
   "outputs": [],
   "source": [
    "# Hábitos saudáveis e Gênero\n",
    "\n",
    "plt.figure(figsize=(7,5))\n",
    "sns.boxplot(x = \"RIAGENDR\", y = \"HEI2015_TOTAL_SCORE\", data = df_merged_2.replace(label_quali));"
   ]
  },
  {
   "cell_type": "code",
   "execution_count": null,
   "id": "42304b9d",
   "metadata": {},
   "outputs": [],
   "source": [
    "fig, ax = plt.subplots(ncols=2, figsize=(15,5))\n",
    "\n",
    "sns.boxplot(x = \"RIAGENDR\", y = \"PAG_HRW\", data = df_merged_2.replace(label_quali), ax = ax[0])\n",
    "sns.boxplot(x = \"RIAGENDR\", y = \"PAG_HRW_log\", data = df_merged_2.replace(label_quali), ax = ax[1]);"
   ]
  },
  {
   "cell_type": "markdown",
   "id": "3f91dec6",
   "metadata": {},
   "source": [
    "- H0: Não existe pelo menos uma diferença na média do escore total entre os gêneros\n",
    "- H1: Existe pelo menos uma diferença na média do escore total entre os gêneros"
   ]
  },
  {
   "cell_type": "code",
   "execution_count": null,
   "id": "394f1978",
   "metadata": {},
   "outputs": [],
   "source": [
    "df_teste = df_merged_2[[\"RIAGENDR\", \"PAG_HRW\", \"PAG_HRW_log\", \"HEI2015_TOTAL_SCORE\"]].dropna()\n",
    "\n",
    "stat, p = f_oneway(df_teste[(df_teste.RIAGENDR == 1)][\"HEI2015_TOTAL_SCORE\"],\n",
    "                   df_teste[(df_teste.RIAGENDR == 2)][\"HEI2015_TOTAL_SCORE\"])\n",
    "\n",
    "if p < 0.05:\n",
    "    print('H0 rejeitada: Existe pelo menos uma diferença na média do escore total entre os gêneros')\n",
    "else:\n",
    "    print('H0 aceita: Não existe diferença entre os gêneros com relação ao escore total')"
   ]
  },
  {
   "cell_type": "code",
   "execution_count": null,
   "id": "46d27c88",
   "metadata": {},
   "outputs": [],
   "source": [
    "tukey = pairwise_tukeyhsd(df_teste['HEI2015_TOTAL_SCORE'], df_teste['RIAGENDR'])\n",
    "print(tukey)"
   ]
  },
  {
   "cell_type": "markdown",
   "id": "1e562fbc",
   "metadata": {},
   "source": [
    "- H0: Não existe pelo menos uma diferença na média das horas em atividade entre os gêneros\n",
    "- H1: Existe pelo menos uma diferença na média das horas em atividade entre os gêneros"
   ]
  },
  {
   "cell_type": "code",
   "execution_count": null,
   "id": "2edc2e94",
   "metadata": {},
   "outputs": [],
   "source": [
    "stat, p = f_oneway(df_teste[(df_teste.RIAGENDR == 1)][\"PAG_HRW_log\"],\n",
    "                   df_teste[(df_teste.RIAGENDR == 2)][\"PAG_HRW_log\"])\n",
    "\n",
    "if p < 0.05:\n",
    "    print('H0 rejeitada: Existe pelo menos uma diferença na média de horas em atividades entre os gêneros')\n",
    "else:\n",
    "    print('H0 aceita: Não existe diferença entre os gêneros com relação a média de horas em atividade')"
   ]
  },
  {
   "cell_type": "code",
   "execution_count": null,
   "id": "349ae70e",
   "metadata": {},
   "outputs": [],
   "source": [
    "tukey = pairwise_tukeyhsd(df_teste['PAG_HRW_log'], df_teste['RIAGENDR'])\n",
    "print(tukey)"
   ]
  },
  {
   "cell_type": "code",
   "execution_count": null,
   "id": "64ebf150",
   "metadata": {},
   "outputs": [],
   "source": [
    "# Hábitos saudáveis e Raça/etnia\n",
    "\n",
    "plt.figure(figsize=(7,5))\n",
    "sns.boxplot(x = \"RIDRETH1\", y = \"HEI2015_TOTAL_SCORE\", data = df_merged_2.replace(label_quali));"
   ]
  },
  {
   "cell_type": "code",
   "execution_count": null,
   "id": "a900d811",
   "metadata": {},
   "outputs": [],
   "source": [
    "fig, ax = plt.subplots(ncols=2, figsize=(15,5))\n",
    "\n",
    "sns.boxplot(x = \"RIDRETH1\", y = \"PAG_HRW\", data = df_merged_2.replace(label_quali), ax = ax[0])\n",
    "sns.boxplot(x = \"RIDRETH1\", y = \"PAG_HRW_log\", data = df_merged_2.replace(label_quali), ax = ax[1]);"
   ]
  },
  {
   "cell_type": "markdown",
   "id": "b6f53d13",
   "metadata": {},
   "source": [
    "- H0: Não existe pelo menos uma diferença na média do escore total e a raça/etnia\n",
    "- H1: Existe pelo menos uma diferença na média do escore total e a raça/etnia"
   ]
  },
  {
   "cell_type": "code",
   "execution_count": null,
   "id": "acadb751",
   "metadata": {},
   "outputs": [],
   "source": [
    "df_teste = df_merged_2[[\"RIDRETH1\", \"PAG_HRW\", \"PAG_HRW_log\", \"HEI2015_TOTAL_SCORE\"]].dropna()\n",
    "\n",
    "stat, p = f_oneway(df_teste[(df_teste.RIDRETH1 == 1)][\"HEI2015_TOTAL_SCORE\"],\n",
    "                   df_teste[(df_teste.RIDRETH1 == 2)][\"HEI2015_TOTAL_SCORE\"],\n",
    "                   df_teste[(df_teste.RIDRETH1 == 3)][\"HEI2015_TOTAL_SCORE\"],\n",
    "                   df_teste[(df_teste.RIDRETH1 == 4)][\"HEI2015_TOTAL_SCORE\"])\n",
    "\n",
    "if p < 0.05:\n",
    "    print('H0 rejeitada: Existe pelo menos uma diferença na média do escore total e a raça/etnia')\n",
    "else:\n",
    "    print('H0 aceita: Não existe pelo menos uma diferença na média do escore total e a raça/etnia')"
   ]
  },
  {
   "cell_type": "code",
   "execution_count": null,
   "id": "3b521ae6",
   "metadata": {},
   "outputs": [],
   "source": [
    "tukey = pairwise_tukeyhsd(df_teste['HEI2015_TOTAL_SCORE'], df_teste['RIDRETH1'])\n",
    "print(tukey)"
   ]
  },
  {
   "cell_type": "markdown",
   "id": "785b3810",
   "metadata": {},
   "source": [
    "- H0: Não existe pelo menos uma diferença na média de atividade em horas e a raça/etnia\n",
    "- H1: Existe pelo menos uma diferença na média de atividade em horas e a raça/etnia"
   ]
  },
  {
   "cell_type": "code",
   "execution_count": null,
   "id": "39c01dbe",
   "metadata": {},
   "outputs": [],
   "source": [
    "stat, p = f_oneway(df_teste[(df_teste.RIDRETH1 == 1)][\"PAG_HRW_log\"],\n",
    "                   df_teste[(df_teste.RIDRETH1 == 2)][\"PAG_HRW_log\"],\n",
    "                   df_teste[(df_teste.RIDRETH1 == 3)][\"PAG_HRW_log\"],\n",
    "                   df_teste[(df_teste.RIDRETH1 == 4)][\"PAG_HRW_log\"])\n",
    "\n",
    "if p < 0.05:\n",
    "    print('H0 rejeitada: Existe pelo menos uma diferença na média de atividade em horas e a raça/etnia')\n",
    "else:\n",
    "    print('H0 aceita: Não existe pelo menos uma diferença na média de atividade em horas e a raça/etnia')"
   ]
  },
  {
   "cell_type": "code",
   "execution_count": null,
   "id": "90301d34",
   "metadata": {},
   "outputs": [],
   "source": [
    "tukey = pairwise_tukeyhsd(df_teste['PAG_HRW_log'], df_teste['RIDRETH1'])\n",
    "print(tukey)"
   ]
  },
  {
   "cell_type": "markdown",
   "id": "f848500a",
   "metadata": {
    "id": "f848500a"
   },
   "source": [
    "## 6) Aspectos da análise"
   ]
  },
  {
   "cell_type": "markdown",
   "id": "b26ece26",
   "metadata": {
    "id": "b26ece26"
   },
   "source": [
    "1) O tipo de estudo empregado pelo NHANES é observacional visto que não houve intervenção dos pesquisadores.\n",
    "\n",
    "2) Quanto as possíveis fontes de viés, está a de muitas pessoas que não responderam ou que não sabiam responder.\n",
    "\n",
    "3) A partir da análise realizada, é possível visualizar que hábitos saudáveis possuem uma correlação em menores índices depressivos. Porém, correlação é diferente de causalidade e para tal, deve ser feito um estudo mais profundo.\n",
    "\n",
    "4) A análise falha em conter uma parte sobre histórico familiar. Além disso, os índices podem enganar pois nem sempre os sintomas de depressão são depressão de fato, podendo ser, por exemplo, cansaço, que pode estar relacionado à jornadas demasiadamente longas de trabalho.\n",
    "\n",
    "5) Informações sobre o histórico familiar são bem vindas, também há quanto tempo prática atividade física, doenças crônicas que poderiam estar associadas a algum dos quadros (impactando ou na frequência de atividade física ou nos sintomas de depressão) e alguma informação demográfica relacionada à localidade do entrevistado (como, por exemplo, se moradores da zona urbana possuem mais sintomas depressivos que os da zona rural, entre outros)."
   ]
  }
 ],
 "metadata": {
  "colab": {
   "name": "Desafio de inferência.ipynb",
   "provenance": []
  },
  "kernelspec": {
   "display_name": "Python 3 (ipykernel)",
   "language": "python",
   "name": "python3"
  },
  "language_info": {
   "codemirror_mode": {
    "name": "ipython",
    "version": 3
   },
   "file_extension": ".py",
   "mimetype": "text/x-python",
   "name": "python",
   "nbconvert_exporter": "python",
   "pygments_lexer": "ipython3",
   "version": "3.9.12"
  }
 },
 "nbformat": 4,
 "nbformat_minor": 5
}
